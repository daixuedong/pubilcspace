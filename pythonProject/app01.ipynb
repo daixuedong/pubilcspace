{
 "cells": [
  {
   "cell_type": "code",
   "execution_count": 1,
   "metadata": {},
   "outputs": [
    {
     "name": "stdout",
     "output_type": "stream",
     "text": [
      "hello, world!\n"
     ]
    }
   ],
   "source": [
    "print(\"hello, world!\")"
   ]
  },
  {
   "cell_type": "code",
   "execution_count": 6,
   "metadata": {},
   "outputs": [
    {
     "name": "stdout",
     "output_type": "stream",
     "text": [
      "1\n",
      "3\n",
      "5\n",
      "7\n",
      "9\n",
      "11\n",
      "13\n",
      "15\n",
      "17\n",
      "19\n",
      "21\n",
      "23\n",
      "25\n",
      "27\n",
      "29\n",
      "31\n",
      "33\n",
      "35\n",
      "37\n",
      "39\n",
      "41\n",
      "43\n",
      "45\n",
      "47\n",
      "49\n",
      "51\n",
      "53\n",
      "55\n",
      "57\n",
      "59\n",
      "61\n",
      "63\n",
      "65\n",
      "67\n",
      "69\n",
      "71\n",
      "73\n",
      "75\n",
      "77\n",
      "79\n",
      "81\n",
      "83\n",
      "85\n",
      "87\n",
      "89\n",
      "91\n",
      "93\n",
      "95\n",
      "97\n",
      "99\n"
     ]
    }
   ],
   "source": [
    "for i in range(1,101):\n",
    "    if i % 2 == 1:\n",
    "        print(i)"
   ]
  },
  {
   "cell_type": "code",
   "execution_count": 8,
   "metadata": {},
   "outputs": [
    {
     "name": "stdout",
     "output_type": "stream",
     "text": [
      "你好 我正在学python@$@$现在需要 修改字符串\n"
     ]
    }
   ],
   "source": [
    "str1='你好$$$我正在学python@$@$现在需要&%&%&修改字符串'\n",
    "str2=str1.replace('$$$',' ').replace('@#@#', ' ').replace('&%&%&', ' ')\n",
    "print(str2)"
   ]
  },
  {
   "cell_type": "code",
   "execution_count": 10,
   "metadata": {},
   "outputs": [
    {
     "name": "stdout",
     "output_type": "stream",
     "text": [
      "你好$$$我正在学python@$@$现在需要&%&%&修改字符串\n",
      "你好 我正在学python 现在需要 修改字符串\n"
     ]
    }
   ],
   "source": [
    "import re\n",
    "print(str1)\n",
    "str2=re.sub('[$@#&%]+',' ',str1)\n",
    "print(str2)"
   ]
  },
  {
   "cell_type": "code",
   "execution_count": 11,
   "metadata": {},
   "outputs": [
    {
     "name": "stdout",
     "output_type": "stream",
     "text": [
      "I love  Python  propgramming\n"
     ]
    }
   ],
   "source": [
    "import re\n",
    "str1='I love #Python @propgramming'\n",
    "str2=re.sub('[@#$%&]+', ' ',str1)\n",
    "print(str2)"
   ]
  },
  {
   "cell_type": "code",
   "execution_count": 13,
   "metadata": {},
   "outputs": [
    {
     "name": "stdout",
     "output_type": "stream",
     "text": [
      "1×1=1\t\n",
      "1×2=2\t2×2=4\t\n",
      "1×3=3\t2×3=6\t3×3=9\t\n",
      "1×4=4\t2×4=8\t3×4=12\t4×4=16\t\n",
      "1×5=5\t2×5=10\t3×5=15\t4×5=20\t5×5=25\t\n",
      "1×6=6\t2×6=12\t3×6=18\t4×6=24\t5×6=30\t6×6=36\t\n",
      "1×7=7\t2×7=14\t3×7=21\t4×7=28\t5×7=35\t6×7=42\t7×7=49\t\n",
      "1×8=8\t2×8=16\t3×8=24\t4×8=32\t5×8=40\t6×8=48\t7×8=56\t8×8=64\t\n",
      "1×9=9\t2×9=18\t3×9=27\t4×9=36\t5×9=45\t6×9=54\t7×9=63\t8×9=72\t9×9=81\t\n"
     ]
    }
   ],
   "source": [
    "for i in range(1,10):\n",
    "    for j in range(1,i+1):\n",
    "        print(\"%d×%d=%d\\t\" % (j,i,i*j),end='')\n",
    "    print('')"
   ]
  },
  {
   "cell_type": "code",
   "execution_count": 14,
   "metadata": {},
   "outputs": [
    {
     "name": "stdout",
     "output_type": "stream",
     "text": [
      "1000.0\n"
     ]
    }
   ],
   "source": [
    "def calcute_profit(I):\n",
    "    I=I/10000\n",
    "    if I<=10:\n",
    "        a=I*0.01\n",
    "        return a*10000\n",
    "    elif I<=20 and I>10:\n",
    "        b=0.25+I*0.075\n",
    "        return b*10000\n",
    "    elif I <=40 and I>20:\n",
    "        c=0.75+I*0.05\n",
    "        return c*10000\n",
    "    elif I<=60 and I>40:\n",
    "        d=0.95 + I*0.03\n",
    "        return d*10000\n",
    "    elif I<=100 and I>60:\n",
    "        e=2+I*0.015\n",
    "        return e*10000\n",
    "    else:\n",
    "        f=2.95+I*0.01\n",
    "        return f*10000\n",
    "    \n",
    "I =int(input(\"净利润：\"))\n",
    "profit=calcute_profit(I)\n",
    "print(profit)"
   ]
  },
  {
   "cell_type": "code",
   "execution_count": 15,
   "metadata": {},
   "outputs": [
    {
     "name": "stdout",
     "output_type": "stream",
     "text": [
      "[(0, 0), (2, 1), (1, 2), (4, 3), (3, 4)]\n"
     ]
    }
   ],
   "source": [
    "import operator\n",
    "x={1:2,3:4,4:3,2:1,0:0}\n",
    "sorted_x=sorted(x.items(),key=operator.itemgetter(1))\n",
    "print(sorted_x)"
   ]
  }
 ],
 "metadata": {
  "kernelspec": {
   "display_name": "Python 3",
   "language": "python",
   "name": "python3"
  },
  "language_info": {
   "codemirror_mode": {
    "name": "ipython",
    "version": 3
   },
   "file_extension": ".py",
   "mimetype": "text/x-python",
   "name": "python",
   "nbconvert_exporter": "python",
   "pygments_lexer": "ipython3",
   "version": "3.10.11"
  },
  "orig_nbformat": 4
 },
 "nbformat": 4,
 "nbformat_minor": 2
}
